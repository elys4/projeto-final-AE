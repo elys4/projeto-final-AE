{
 "cells": [
  {
   "cell_type": "markdown",
   "metadata": {},
   "source": [
    "# Desperdício de Alimentos Global por Categorias e Regiões\n",
    "\n",
    "O tema deste projeto será a análise do desperdício de alimentos em diferentes regiões do mundo, focando nas categorias de desperdício: doméstico, varejo e serviços de alimentação. O objetivo é identificar padrões regionais de desperdício e propor insights que possam ser usados para políticas públicas e estratégias de redução.\n",
    "\n",
    "Bases de Dados: Utilizaremos uma base de dados com informações sobre o desperdício de alimentos, que contém os seguintes campos principais:\n",
    "\n",
    "País\n",
    "Região\n",
    "Desperdício Domiciliar (kg/pessoa/ano)\n",
    "Desperdício no Varejo (kg/pessoa/ano)\n",
    "Desperdício em Serviços de Alimentação (kg/pessoa/ano)\n",
    "Essa base de dados é adequada para responder a questões relacionadas à geografia do desperdício e os principais setores responsáveis.\n",
    "\n",
    "Com base no objetivo, as perguntas a serem respondidas são:\n",
    "\n",
    "1) Quais regiões do mundo têm os maiores índices de desperdício de alimentos?<p>\n",
    "2) Qual o desperdício médio pelas categorias: domicílios, varejo e serviços de alimentação?<p>\n",
    "3) Quais países apresentam o menor e o maior desperdício per capita?<p>\n",
    "4) Existe uma correlação entre a confiança nas estimativas e os valores de desperdício?\n",
    "5) Existe uma correlação entre o IDH e o desperdício de comida?\n",
    "\n",
    "As bases utilizadas foram encontradas no Kaggle. \n",
    "Desperdício de comida: https://www.kaggle.com/datasets/joebeachcapital/food-waste/data\n",
    "IDH: https://www.kaggle.com/datasets/iamsouravbanerjee/human-development-index-dataset"
   ]
  },
  {
   "cell_type": "markdown",
   "metadata": {},
   "source": [
    "## ETL "
   ]
  },
  {
   "cell_type": "code",
   "execution_count": 1,
   "metadata": {},
   "outputs": [],
   "source": [
    "import pandas as pd\n",
    "import matplotlib.pyplot as plt\n",
    "import seaborn as sns\n",
    "import numpy as np\n",
    "\n",
    "df = pd.read_csv(\"Food Waste data and research - by country.csv\")\n",
    "base_idh = pd.read_csv(\"Human Development Index - Full.csv\")"
   ]
  },
  {
   "cell_type": "code",
   "execution_count": 2,
   "metadata": {},
   "outputs": [
    {
     "data": {
      "text/html": [
       "<div>\n",
       "<style scoped>\n",
       "    .dataframe tbody tr th:only-of-type {\n",
       "        vertical-align: middle;\n",
       "    }\n",
       "\n",
       "    .dataframe tbody tr th {\n",
       "        vertical-align: top;\n",
       "    }\n",
       "\n",
       "    .dataframe thead th {\n",
       "        text-align: right;\n",
       "    }\n",
       "</style>\n",
       "<table border=\"1\" class=\"dataframe\">\n",
       "  <thead>\n",
       "    <tr style=\"text-align: right;\">\n",
       "      <th></th>\n",
       "      <th>Country</th>\n",
       "      <th>combined figures (kg/capita/year)</th>\n",
       "      <th>Household estimate (kg/capita/year)</th>\n",
       "      <th>Household estimate (tonnes/year)</th>\n",
       "      <th>Retail estimate (kg/capita/year)</th>\n",
       "      <th>Retail estimate (tonnes/year)</th>\n",
       "      <th>Food service estimate (kg/capita/year)</th>\n",
       "      <th>Food service estimate (tonnes/year)</th>\n",
       "      <th>Confidence in estimate</th>\n",
       "      <th>M49 code</th>\n",
       "      <th>Region</th>\n",
       "      <th>Source</th>\n",
       "    </tr>\n",
       "  </thead>\n",
       "  <tbody>\n",
       "    <tr>\n",
       "      <th>0</th>\n",
       "      <td>Afghanistan</td>\n",
       "      <td>126</td>\n",
       "      <td>82</td>\n",
       "      <td>3109153</td>\n",
       "      <td>16</td>\n",
       "      <td>594982</td>\n",
       "      <td>28</td>\n",
       "      <td>1051783</td>\n",
       "      <td>Very Low Confidence</td>\n",
       "      <td>4</td>\n",
       "      <td>Southern Asia</td>\n",
       "      <td>https://www.unep.org/resources/report/unep-foo...</td>\n",
       "    </tr>\n",
       "    <tr>\n",
       "      <th>1</th>\n",
       "      <td>Albania</td>\n",
       "      <td>127</td>\n",
       "      <td>83</td>\n",
       "      <td>238492</td>\n",
       "      <td>16</td>\n",
       "      <td>45058</td>\n",
       "      <td>28</td>\n",
       "      <td>79651</td>\n",
       "      <td>Very Low Confidence</td>\n",
       "      <td>8</td>\n",
       "      <td>Southern Europe</td>\n",
       "      <td>https://www.unep.org/resources/report/unep-foo...</td>\n",
       "    </tr>\n",
       "    <tr>\n",
       "      <th>2</th>\n",
       "      <td>Algeria</td>\n",
       "      <td>135</td>\n",
       "      <td>91</td>\n",
       "      <td>3918529</td>\n",
       "      <td>16</td>\n",
       "      <td>673360</td>\n",
       "      <td>28</td>\n",
       "      <td>1190335</td>\n",
       "      <td>Very Low Confidence</td>\n",
       "      <td>12</td>\n",
       "      <td>Northern Africa</td>\n",
       "      <td>https://www.unep.org/resources/report/unep-foo...</td>\n",
       "    </tr>\n",
       "    <tr>\n",
       "      <th>3</th>\n",
       "      <td>Andorra</td>\n",
       "      <td>123</td>\n",
       "      <td>84</td>\n",
       "      <td>6497</td>\n",
       "      <td>13</td>\n",
       "      <td>988</td>\n",
       "      <td>26</td>\n",
       "      <td>1971</td>\n",
       "      <td>Low Confidence</td>\n",
       "      <td>20</td>\n",
       "      <td>Southern Europe</td>\n",
       "      <td>https://www.unep.org/resources/report/unep-foo...</td>\n",
       "    </tr>\n",
       "    <tr>\n",
       "      <th>4</th>\n",
       "      <td>Angola</td>\n",
       "      <td>144</td>\n",
       "      <td>100</td>\n",
       "      <td>3169523</td>\n",
       "      <td>16</td>\n",
       "      <td>497755</td>\n",
       "      <td>28</td>\n",
       "      <td>879908</td>\n",
       "      <td>Very Low Confidence</td>\n",
       "      <td>24</td>\n",
       "      <td>Sub-Saharan Africa</td>\n",
       "      <td>https://www.unep.org/resources/report/unep-foo...</td>\n",
       "    </tr>\n",
       "    <tr>\n",
       "      <th>5</th>\n",
       "      <td>Antigua and Barbuda</td>\n",
       "      <td>113</td>\n",
       "      <td>74</td>\n",
       "      <td>7178</td>\n",
       "      <td>13</td>\n",
       "      <td>1244</td>\n",
       "      <td>26</td>\n",
       "      <td>2483</td>\n",
       "      <td>Low Confidence</td>\n",
       "      <td>28</td>\n",
       "      <td>Latin America and the Caribbean</td>\n",
       "      <td>https://www.unep.org/resources/report/unep-foo...</td>\n",
       "    </tr>\n",
       "    <tr>\n",
       "      <th>6</th>\n",
       "      <td>Argentina</td>\n",
       "      <td>116</td>\n",
       "      <td>72</td>\n",
       "      <td>3243563</td>\n",
       "      <td>16</td>\n",
       "      <td>700380</td>\n",
       "      <td>28</td>\n",
       "      <td>1238100</td>\n",
       "      <td>Very Low Confidence</td>\n",
       "      <td>32</td>\n",
       "      <td>Latin America and the Caribbean</td>\n",
       "      <td>https://www.unep.org/resources/report/unep-foo...</td>\n",
       "    </tr>\n",
       "    <tr>\n",
       "      <th>7</th>\n",
       "      <td>Armenia</td>\n",
       "      <td>137</td>\n",
       "      <td>93</td>\n",
       "      <td>275195</td>\n",
       "      <td>16</td>\n",
       "      <td>46259</td>\n",
       "      <td>28</td>\n",
       "      <td>81775</td>\n",
       "      <td>Very Low Confidence</td>\n",
       "      <td>51</td>\n",
       "      <td>Western Asia</td>\n",
       "      <td>https://www.unep.org/resources/report/unep-foo...</td>\n",
       "    </tr>\n",
       "    <tr>\n",
       "      <th>8</th>\n",
       "      <td>Aruba</td>\n",
       "      <td>113</td>\n",
       "      <td>74</td>\n",
       "      <td>7858</td>\n",
       "      <td>13</td>\n",
       "      <td>1362</td>\n",
       "      <td>26</td>\n",
       "      <td>2718</td>\n",
       "      <td>Low Confidence</td>\n",
       "      <td>533</td>\n",
       "      <td>Latin America and the Caribbean</td>\n",
       "      <td>https://www.unep.org/resources/report/unep-foo...</td>\n",
       "    </tr>\n",
       "    <tr>\n",
       "      <th>9</th>\n",
       "      <td>Australia</td>\n",
       "      <td>133</td>\n",
       "      <td>102</td>\n",
       "      <td>2563110</td>\n",
       "      <td>9</td>\n",
       "      <td>238248</td>\n",
       "      <td>22</td>\n",
       "      <td>546340</td>\n",
       "      <td>High Confidence</td>\n",
       "      <td>36</td>\n",
       "      <td>Australia and New Zealand</td>\n",
       "      <td>https://www.unep.org/resources/report/unep-foo...</td>\n",
       "    </tr>\n",
       "  </tbody>\n",
       "</table>\n",
       "</div>"
      ],
      "text/plain": [
       "               Country  combined figures (kg/capita/year)  \\\n",
       "0          Afghanistan                                126   \n",
       "1              Albania                                127   \n",
       "2              Algeria                                135   \n",
       "3              Andorra                                123   \n",
       "4               Angola                                144   \n",
       "5  Antigua and Barbuda                                113   \n",
       "6            Argentina                                116   \n",
       "7              Armenia                                137   \n",
       "8                Aruba                                113   \n",
       "9            Australia                                133   \n",
       "\n",
       "   Household estimate (kg/capita/year)  Household estimate (tonnes/year)  \\\n",
       "0                                   82                           3109153   \n",
       "1                                   83                            238492   \n",
       "2                                   91                           3918529   \n",
       "3                                   84                              6497   \n",
       "4                                  100                           3169523   \n",
       "5                                   74                              7178   \n",
       "6                                   72                           3243563   \n",
       "7                                   93                            275195   \n",
       "8                                   74                              7858   \n",
       "9                                  102                           2563110   \n",
       "\n",
       "   Retail estimate (kg/capita/year)  Retail estimate (tonnes/year)  \\\n",
       "0                                16                         594982   \n",
       "1                                16                          45058   \n",
       "2                                16                         673360   \n",
       "3                                13                            988   \n",
       "4                                16                         497755   \n",
       "5                                13                           1244   \n",
       "6                                16                         700380   \n",
       "7                                16                          46259   \n",
       "8                                13                           1362   \n",
       "9                                 9                         238248   \n",
       "\n",
       "   Food service estimate (kg/capita/year)  \\\n",
       "0                                      28   \n",
       "1                                      28   \n",
       "2                                      28   \n",
       "3                                      26   \n",
       "4                                      28   \n",
       "5                                      26   \n",
       "6                                      28   \n",
       "7                                      28   \n",
       "8                                      26   \n",
       "9                                      22   \n",
       "\n",
       "   Food service estimate (tonnes/year) Confidence in estimate  M49 code  \\\n",
       "0                              1051783    Very Low Confidence         4   \n",
       "1                                79651    Very Low Confidence         8   \n",
       "2                              1190335    Very Low Confidence        12   \n",
       "3                                 1971         Low Confidence        20   \n",
       "4                               879908    Very Low Confidence        24   \n",
       "5                                 2483         Low Confidence        28   \n",
       "6                              1238100    Very Low Confidence        32   \n",
       "7                                81775    Very Low Confidence        51   \n",
       "8                                 2718         Low Confidence       533   \n",
       "9                               546340        High Confidence        36   \n",
       "\n",
       "                            Region  \\\n",
       "0                    Southern Asia   \n",
       "1                  Southern Europe   \n",
       "2                  Northern Africa   \n",
       "3                  Southern Europe   \n",
       "4               Sub-Saharan Africa   \n",
       "5  Latin America and the Caribbean   \n",
       "6  Latin America and the Caribbean   \n",
       "7                     Western Asia   \n",
       "8  Latin America and the Caribbean   \n",
       "9        Australia and New Zealand   \n",
       "\n",
       "                                              Source  \n",
       "0  https://www.unep.org/resources/report/unep-foo...  \n",
       "1  https://www.unep.org/resources/report/unep-foo...  \n",
       "2  https://www.unep.org/resources/report/unep-foo...  \n",
       "3  https://www.unep.org/resources/report/unep-foo...  \n",
       "4  https://www.unep.org/resources/report/unep-foo...  \n",
       "5  https://www.unep.org/resources/report/unep-foo...  \n",
       "6  https://www.unep.org/resources/report/unep-foo...  \n",
       "7  https://www.unep.org/resources/report/unep-foo...  \n",
       "8  https://www.unep.org/resources/report/unep-foo...  \n",
       "9  https://www.unep.org/resources/report/unep-foo...  "
      ]
     },
     "execution_count": 2,
     "metadata": {},
     "output_type": "execute_result"
    }
   ],
   "source": [
    "df.head(10)"
   ]
  },
  {
   "cell_type": "markdown",
   "metadata": {},
   "source": [
    "### Verificando e tratando a base escolhida"
   ]
  },
  {
   "cell_type": "code",
   "execution_count": 3,
   "metadata": {},
   "outputs": [
    {
     "name": "stdout",
     "output_type": "stream",
     "text": [
      "<class 'pandas.core.frame.DataFrame'>\n",
      "RangeIndex: 214 entries, 0 to 213\n",
      "Data columns (total 12 columns):\n",
      " #   Column                                  Non-Null Count  Dtype \n",
      "---  ------                                  --------------  ----- \n",
      " 0   Country                                 214 non-null    object\n",
      " 1   combined figures (kg/capita/year)       214 non-null    int64 \n",
      " 2   Household estimate (kg/capita/year)     214 non-null    int64 \n",
      " 3   Household estimate (tonnes/year)        214 non-null    int64 \n",
      " 4   Retail estimate (kg/capita/year)        214 non-null    int64 \n",
      " 5   Retail estimate (tonnes/year)           214 non-null    int64 \n",
      " 6   Food service estimate (kg/capita/year)  214 non-null    int64 \n",
      " 7   Food service estimate (tonnes/year)     214 non-null    int64 \n",
      " 8   Confidence in estimate                  214 non-null    object\n",
      " 9   M49 code                                214 non-null    int64 \n",
      " 10  Region                                  214 non-null    object\n",
      " 11  Source                                  214 non-null    object\n",
      "dtypes: int64(8), object(4)\n",
      "memory usage: 20.2+ KB\n"
     ]
    }
   ],
   "source": [
    "df.info()"
   ]
  },
  {
   "cell_type": "code",
   "execution_count": 4,
   "metadata": {},
   "outputs": [
    {
     "data": {
      "text/plain": [
       "Country                                   0\n",
       "combined figures (kg/capita/year)         0\n",
       "Household estimate (kg/capita/year)       0\n",
       "Household estimate (tonnes/year)          0\n",
       "Retail estimate (kg/capita/year)          0\n",
       "Retail estimate (tonnes/year)             0\n",
       "Food service estimate (kg/capita/year)    0\n",
       "Food service estimate (tonnes/year)       0\n",
       "Confidence in estimate                    0\n",
       "M49 code                                  0\n",
       "Region                                    0\n",
       "Source                                    0\n",
       "dtype: int64"
      ]
     },
     "execution_count": 4,
     "metadata": {},
     "output_type": "execute_result"
    }
   ],
   "source": [
    "df.isnull().sum()"
   ]
  },
  {
   "cell_type": "code",
   "execution_count": 5,
   "metadata": {},
   "outputs": [
    {
     "data": {
      "text/html": [
       "<div>\n",
       "<style scoped>\n",
       "    .dataframe tbody tr th:only-of-type {\n",
       "        vertical-align: middle;\n",
       "    }\n",
       "\n",
       "    .dataframe tbody tr th {\n",
       "        vertical-align: top;\n",
       "    }\n",
       "\n",
       "    .dataframe thead th {\n",
       "        text-align: right;\n",
       "    }\n",
       "</style>\n",
       "<table border=\"1\" class=\"dataframe\">\n",
       "  <thead>\n",
       "    <tr style=\"text-align: right;\">\n",
       "      <th></th>\n",
       "      <th>combined figures (kg/capita/year)</th>\n",
       "      <th>Household estimate (kg/capita/year)</th>\n",
       "      <th>Household estimate (tonnes/year)</th>\n",
       "      <th>Retail estimate (kg/capita/year)</th>\n",
       "      <th>Retail estimate (tonnes/year)</th>\n",
       "      <th>Food service estimate (kg/capita/year)</th>\n",
       "      <th>Food service estimate (tonnes/year)</th>\n",
       "      <th>M49 code</th>\n",
       "    </tr>\n",
       "  </thead>\n",
       "  <tbody>\n",
       "    <tr>\n",
       "      <th>count</th>\n",
       "      <td>214.000000</td>\n",
       "      <td>214.000000</td>\n",
       "      <td>2.140000e+02</td>\n",
       "      <td>214.000000</td>\n",
       "      <td>2.140000e+02</td>\n",
       "      <td>214.000000</td>\n",
       "      <td>2.140000e+02</td>\n",
       "      <td>214.000000</td>\n",
       "    </tr>\n",
       "    <tr>\n",
       "      <th>mean</th>\n",
       "      <td>126.794393</td>\n",
       "      <td>84.294393</td>\n",
       "      <td>2.658896e+06</td>\n",
       "      <td>15.116822</td>\n",
       "      <td>5.520454e+05</td>\n",
       "      <td>27.383178</td>\n",
       "      <td>1.138859e+06</td>\n",
       "      <td>433.971963</td>\n",
       "    </tr>\n",
       "    <tr>\n",
       "      <th>std</th>\n",
       "      <td>22.157879</td>\n",
       "      <td>18.313705</td>\n",
       "      <td>8.596906e+06</td>\n",
       "      <td>5.767840</td>\n",
       "      <td>2.195578e+06</td>\n",
       "      <td>6.508420</td>\n",
       "      <td>5.380459e+06</td>\n",
       "      <td>252.185786</td>\n",
       "    </tr>\n",
       "    <tr>\n",
       "      <th>min</th>\n",
       "      <td>61.000000</td>\n",
       "      <td>33.000000</td>\n",
       "      <td>8.500000e+02</td>\n",
       "      <td>3.000000</td>\n",
       "      <td>1.380000e+02</td>\n",
       "      <td>3.000000</td>\n",
       "      <td>2.760000e+02</td>\n",
       "      <td>4.000000</td>\n",
       "    </tr>\n",
       "    <tr>\n",
       "      <th>25%</th>\n",
       "      <td>115.000000</td>\n",
       "      <td>74.000000</td>\n",
       "      <td>6.831550e+04</td>\n",
       "      <td>13.000000</td>\n",
       "      <td>1.250925e+04</td>\n",
       "      <td>26.000000</td>\n",
       "      <td>2.239125e+04</td>\n",
       "      <td>219.000000</td>\n",
       "    </tr>\n",
       "    <tr>\n",
       "      <th>50%</th>\n",
       "      <td>123.000000</td>\n",
       "      <td>80.000000</td>\n",
       "      <td>5.205080e+05</td>\n",
       "      <td>16.000000</td>\n",
       "      <td>1.006500e+05</td>\n",
       "      <td>28.000000</td>\n",
       "      <td>1.884660e+05</td>\n",
       "      <td>432.000000</td>\n",
       "    </tr>\n",
       "    <tr>\n",
       "      <th>75%</th>\n",
       "      <td>137.750000</td>\n",
       "      <td>95.000000</td>\n",
       "      <td>2.111314e+06</td>\n",
       "      <td>16.000000</td>\n",
       "      <td>3.568158e+05</td>\n",
       "      <td>28.000000</td>\n",
       "      <td>6.307618e+05</td>\n",
       "      <td>645.250000</td>\n",
       "    </tr>\n",
       "    <tr>\n",
       "      <th>max</th>\n",
       "      <td>260.000000</td>\n",
       "      <td>189.000000</td>\n",
       "      <td>9.164621e+07</td>\n",
       "      <td>79.000000</td>\n",
       "      <td>2.242470e+07</td>\n",
       "      <td>90.000000</td>\n",
       "      <td>6.537774e+07</td>\n",
       "      <td>894.000000</td>\n",
       "    </tr>\n",
       "  </tbody>\n",
       "</table>\n",
       "</div>"
      ],
      "text/plain": [
       "       combined figures (kg/capita/year)  Household estimate (kg/capita/year)  \\\n",
       "count                         214.000000                           214.000000   \n",
       "mean                          126.794393                            84.294393   \n",
       "std                            22.157879                            18.313705   \n",
       "min                            61.000000                            33.000000   \n",
       "25%                           115.000000                            74.000000   \n",
       "50%                           123.000000                            80.000000   \n",
       "75%                           137.750000                            95.000000   \n",
       "max                           260.000000                           189.000000   \n",
       "\n",
       "       Household estimate (tonnes/year)  Retail estimate (kg/capita/year)  \\\n",
       "count                      2.140000e+02                        214.000000   \n",
       "mean                       2.658896e+06                         15.116822   \n",
       "std                        8.596906e+06                          5.767840   \n",
       "min                        8.500000e+02                          3.000000   \n",
       "25%                        6.831550e+04                         13.000000   \n",
       "50%                        5.205080e+05                         16.000000   \n",
       "75%                        2.111314e+06                         16.000000   \n",
       "max                        9.164621e+07                         79.000000   \n",
       "\n",
       "       Retail estimate (tonnes/year)  Food service estimate (kg/capita/year)  \\\n",
       "count                   2.140000e+02                              214.000000   \n",
       "mean                    5.520454e+05                               27.383178   \n",
       "std                     2.195578e+06                                6.508420   \n",
       "min                     1.380000e+02                                3.000000   \n",
       "25%                     1.250925e+04                               26.000000   \n",
       "50%                     1.006500e+05                               28.000000   \n",
       "75%                     3.568158e+05                               28.000000   \n",
       "max                     2.242470e+07                               90.000000   \n",
       "\n",
       "       Food service estimate (tonnes/year)    M49 code  \n",
       "count                         2.140000e+02  214.000000  \n",
       "mean                          1.138859e+06  433.971963  \n",
       "std                           5.380459e+06  252.185786  \n",
       "min                           2.760000e+02    4.000000  \n",
       "25%                           2.239125e+04  219.000000  \n",
       "50%                           1.884660e+05  432.000000  \n",
       "75%                           6.307618e+05  645.250000  \n",
       "max                           6.537774e+07  894.000000  "
      ]
     },
     "execution_count": 5,
     "metadata": {},
     "output_type": "execute_result"
    }
   ],
   "source": [
    "df.describe()"
   ]
  },
  {
   "cell_type": "code",
   "execution_count": 6,
   "metadata": {},
   "outputs": [
    {
     "data": {
      "text/plain": [
       "np.int64(0)"
      ]
     },
     "execution_count": 6,
     "metadata": {},
     "output_type": "execute_result"
    }
   ],
   "source": [
    "df.duplicated().sum()"
   ]
  },
  {
   "cell_type": "code",
   "execution_count": 7,
   "metadata": {},
   "outputs": [
    {
     "data": {
      "text/plain": [
       "Index(['Country', 'combined figures (kg/capita/year)',\n",
       "       'Household estimate (kg/capita/year)',\n",
       "       'Household estimate (tonnes/year)', 'Retail estimate (kg/capita/year)',\n",
       "       'Retail estimate (tonnes/year)',\n",
       "       'Food service estimate (kg/capita/year)',\n",
       "       'Food service estimate (tonnes/year)', 'Confidence in estimate',\n",
       "       'M49 code', 'Region', 'Source'],\n",
       "      dtype='object')"
      ]
     },
     "execution_count": 7,
     "metadata": {},
     "output_type": "execute_result"
    }
   ],
   "source": [
    "df.columns"
   ]
  },
  {
   "cell_type": "markdown",
   "metadata": {},
   "source": [
    "Entendimento das Variáveis:<p>\n",
    "<b>Country:</b> País ao qual os dados se referem.<p>\n",
    "<b>Combined figures (kg/capita/year):</b> Total de desperdício de comida por pessoa por ano.<p>\n",
    "<b>Household estimate (kg/capita/year):</b> Estimativa de desperdício por pessoa em domicílios.<p>\n",
    "<b>Household estimate (tonnes/year):</b> Estimativa de desperdício de comida em domicílios (em toneladas).<p>\n",
    "<b>Retail estimate (kg/capita/year):</b> Estimativa de desperdício por pessoa no varejo.<p>\n",
    "<b>Retail estimate (tonnes/year):</b> Estimativa de desperdício de comida no varejo (em toneladas).<p>\n",
    "<b>Food service estimate (kg/capita/year):</b> Estimativa de desperdício por pessoa no setor de serviços de alimentação.<p>\n",
    "<b>Food service estimate (tonnes/year):</b> Estimativa de desperdício no setor de serviços de alimentação (em toneladas).<p>\n",
    "<b>Confidence in estimate:</b> Grau de confiança nas estimativas fornecidas.<p>\n",
    "<b>M49 code:</b> Código M49 usado para classificar as regiões dos países.<p>\n",
    "<b>Region:</b> Região geográfica do país.<p>\n",
    "<b>Source:</b> Fonte dos dados. <p>"
   ]
  },
  {
   "cell_type": "code",
   "execution_count": 8,
   "metadata": {},
   "outputs": [],
   "source": [
    "df = df.drop(columns=['Source'])"
   ]
  },
  {
   "cell_type": "code",
   "execution_count": 9,
   "metadata": {},
   "outputs": [],
   "source": [
    "df = df.reset_index(drop=True)"
   ]
  },
  {
   "cell_type": "code",
   "execution_count": 10,
   "metadata": {},
   "outputs": [],
   "source": [
    "df.rename(columns={\n",
    "    'Country': 'País',\n",
    "    'combined figures (kg/capita/year)': 'Desperdicio total (kg/pessoa/ano)',\n",
    "    'Household estimate (kg/capita/year)': 'Estimativa domiciliar (kg/pessoa/ano)',\n",
    "    'Household estimate (tonnes/year)': 'Estimativa domiciliar (toneladas/ano)',\n",
    "    'Retail estimate (kg/capita/year)': 'Estimativa no varejo (kg/pessoa/ano)',\n",
    "    'Retail estimate (tonnes/year)': 'Estimativa no varejo (toneladas/ano)',\n",
    "    'Food service estimate (kg/capita/year)': 'Estimativa no servico de alimentacao (kg/pessoa/ano)',\n",
    "    'Food service estimate (tonnes/year)': 'Estimativa no servico de alimentacao (toneladas/ano)',\n",
    "    'Confidence in estimate': 'Confianca na estimativa',\n",
    "    'M49 code': 'Codigo M9',\n",
    "    'Region': 'Regiao'\n",
    "}, inplace=True)"
   ]
  },
  {
   "cell_type": "code",
   "execution_count": 11,
   "metadata": {},
   "outputs": [
    {
     "data": {
      "text/plain": [
       "Index(['País', 'Desperdicio total (kg/pessoa/ano)',\n",
       "       'Estimativa domiciliar (kg/pessoa/ano)',\n",
       "       'Estimativa domiciliar (toneladas/ano)',\n",
       "       'Estimativa no varejo (kg/pessoa/ano)',\n",
       "       'Estimativa no varejo (toneladas/ano)',\n",
       "       'Estimativa no servico de alimentacao (kg/pessoa/ano)',\n",
       "       'Estimativa no servico de alimentacao (toneladas/ano)',\n",
       "       'Confianca na estimativa', 'Codigo M9', 'Regiao'],\n",
       "      dtype='object')"
      ]
     },
     "execution_count": 11,
     "metadata": {},
     "output_type": "execute_result"
    }
   ],
   "source": [
    "df.columns"
   ]
  },
  {
   "cell_type": "markdown",
   "metadata": {},
   "source": [
    "Após o tratamento do dataset de desperdício de comida, iniciaremos o tratamento da base de IDH e realizaremos o merge com as bases."
   ]
  },
  {
   "cell_type": "code",
   "execution_count": 12,
   "metadata": {},
   "outputs": [],
   "source": [
    "base_idh.rename(columns={\n",
    "    'Country': 'País',\n",
    "    'HDI Rank (2021)': 'IDH (2021)'\n",
    "}, inplace=True)"
   ]
  },
  {
   "cell_type": "code",
   "execution_count": 13,
   "metadata": {},
   "outputs": [],
   "source": [
    "base_idh_colunas_utilizadas = ['País', 'IDH (2021)']\n",
    "base_idh_tratada = base_idh[base_idh_colunas_utilizadas]"
   ]
  },
  {
   "cell_type": "code",
   "execution_count": 14,
   "metadata": {},
   "outputs": [
    {
     "data": {
      "text/html": [
       "<div>\n",
       "<style scoped>\n",
       "    .dataframe tbody tr th:only-of-type {\n",
       "        vertical-align: middle;\n",
       "    }\n",
       "\n",
       "    .dataframe tbody tr th {\n",
       "        vertical-align: top;\n",
       "    }\n",
       "\n",
       "    .dataframe thead th {\n",
       "        text-align: right;\n",
       "    }\n",
       "</style>\n",
       "<table border=\"1\" class=\"dataframe\">\n",
       "  <thead>\n",
       "    <tr style=\"text-align: right;\">\n",
       "      <th></th>\n",
       "      <th>País</th>\n",
       "      <th>IDH (2021)</th>\n",
       "    </tr>\n",
       "  </thead>\n",
       "  <tbody>\n",
       "    <tr>\n",
       "      <th>0</th>\n",
       "      <td>Afghanistan</td>\n",
       "      <td>180.0</td>\n",
       "    </tr>\n",
       "    <tr>\n",
       "      <th>1</th>\n",
       "      <td>Angola</td>\n",
       "      <td>148.0</td>\n",
       "    </tr>\n",
       "    <tr>\n",
       "      <th>2</th>\n",
       "      <td>Albania</td>\n",
       "      <td>67.0</td>\n",
       "    </tr>\n",
       "    <tr>\n",
       "      <th>3</th>\n",
       "      <td>Andorra</td>\n",
       "      <td>40.0</td>\n",
       "    </tr>\n",
       "    <tr>\n",
       "      <th>4</th>\n",
       "      <td>United Arab Emirates</td>\n",
       "      <td>26.0</td>\n",
       "    </tr>\n",
       "    <tr>\n",
       "      <th>5</th>\n",
       "      <td>Argentina</td>\n",
       "      <td>47.0</td>\n",
       "    </tr>\n",
       "    <tr>\n",
       "      <th>6</th>\n",
       "      <td>Armenia</td>\n",
       "      <td>85.0</td>\n",
       "    </tr>\n",
       "    <tr>\n",
       "      <th>7</th>\n",
       "      <td>Antigua and Barbuda</td>\n",
       "      <td>71.0</td>\n",
       "    </tr>\n",
       "    <tr>\n",
       "      <th>8</th>\n",
       "      <td>Australia</td>\n",
       "      <td>5.0</td>\n",
       "    </tr>\n",
       "    <tr>\n",
       "      <th>9</th>\n",
       "      <td>Austria</td>\n",
       "      <td>25.0</td>\n",
       "    </tr>\n",
       "  </tbody>\n",
       "</table>\n",
       "</div>"
      ],
      "text/plain": [
       "                   País  IDH (2021)\n",
       "0           Afghanistan       180.0\n",
       "1                Angola       148.0\n",
       "2               Albania        67.0\n",
       "3               Andorra        40.0\n",
       "4  United Arab Emirates        26.0\n",
       "5             Argentina        47.0\n",
       "6               Armenia        85.0\n",
       "7   Antigua and Barbuda        71.0\n",
       "8             Australia         5.0\n",
       "9               Austria        25.0"
      ]
     },
     "execution_count": 14,
     "metadata": {},
     "output_type": "execute_result"
    }
   ],
   "source": [
    "base_idh_tratada.head(10)"
   ]
  },
  {
   "cell_type": "code",
   "execution_count": 15,
   "metadata": {},
   "outputs": [
    {
     "data": {
      "text/html": [
       "<div>\n",
       "<style scoped>\n",
       "    .dataframe tbody tr th:only-of-type {\n",
       "        vertical-align: middle;\n",
       "    }\n",
       "\n",
       "    .dataframe tbody tr th {\n",
       "        vertical-align: top;\n",
       "    }\n",
       "\n",
       "    .dataframe thead th {\n",
       "        text-align: right;\n",
       "    }\n",
       "</style>\n",
       "<table border=\"1\" class=\"dataframe\">\n",
       "  <thead>\n",
       "    <tr style=\"text-align: right;\">\n",
       "      <th></th>\n",
       "      <th>País</th>\n",
       "      <th>Desperdicio total (kg/pessoa/ano)</th>\n",
       "      <th>Estimativa domiciliar (kg/pessoa/ano)</th>\n",
       "      <th>Estimativa domiciliar (toneladas/ano)</th>\n",
       "      <th>Estimativa no varejo (kg/pessoa/ano)</th>\n",
       "      <th>Estimativa no varejo (toneladas/ano)</th>\n",
       "      <th>Estimativa no servico de alimentacao (kg/pessoa/ano)</th>\n",
       "      <th>Estimativa no servico de alimentacao (toneladas/ano)</th>\n",
       "      <th>Confianca na estimativa</th>\n",
       "      <th>Codigo M9</th>\n",
       "      <th>Regiao</th>\n",
       "      <th>IDH (2021)</th>\n",
       "    </tr>\n",
       "  </thead>\n",
       "  <tbody>\n",
       "    <tr>\n",
       "      <th>0</th>\n",
       "      <td>Afghanistan</td>\n",
       "      <td>126</td>\n",
       "      <td>82</td>\n",
       "      <td>3109153</td>\n",
       "      <td>16</td>\n",
       "      <td>594982</td>\n",
       "      <td>28</td>\n",
       "      <td>1051783</td>\n",
       "      <td>Very Low Confidence</td>\n",
       "      <td>4</td>\n",
       "      <td>Southern Asia</td>\n",
       "      <td>180.0</td>\n",
       "    </tr>\n",
       "    <tr>\n",
       "      <th>1</th>\n",
       "      <td>Albania</td>\n",
       "      <td>127</td>\n",
       "      <td>83</td>\n",
       "      <td>238492</td>\n",
       "      <td>16</td>\n",
       "      <td>45058</td>\n",
       "      <td>28</td>\n",
       "      <td>79651</td>\n",
       "      <td>Very Low Confidence</td>\n",
       "      <td>8</td>\n",
       "      <td>Southern Europe</td>\n",
       "      <td>67.0</td>\n",
       "    </tr>\n",
       "    <tr>\n",
       "      <th>2</th>\n",
       "      <td>Algeria</td>\n",
       "      <td>135</td>\n",
       "      <td>91</td>\n",
       "      <td>3918529</td>\n",
       "      <td>16</td>\n",
       "      <td>673360</td>\n",
       "      <td>28</td>\n",
       "      <td>1190335</td>\n",
       "      <td>Very Low Confidence</td>\n",
       "      <td>12</td>\n",
       "      <td>Northern Africa</td>\n",
       "      <td>91.0</td>\n",
       "    </tr>\n",
       "    <tr>\n",
       "      <th>3</th>\n",
       "      <td>Andorra</td>\n",
       "      <td>123</td>\n",
       "      <td>84</td>\n",
       "      <td>6497</td>\n",
       "      <td>13</td>\n",
       "      <td>988</td>\n",
       "      <td>26</td>\n",
       "      <td>1971</td>\n",
       "      <td>Low Confidence</td>\n",
       "      <td>20</td>\n",
       "      <td>Southern Europe</td>\n",
       "      <td>40.0</td>\n",
       "    </tr>\n",
       "    <tr>\n",
       "      <th>4</th>\n",
       "      <td>Angola</td>\n",
       "      <td>144</td>\n",
       "      <td>100</td>\n",
       "      <td>3169523</td>\n",
       "      <td>16</td>\n",
       "      <td>497755</td>\n",
       "      <td>28</td>\n",
       "      <td>879908</td>\n",
       "      <td>Very Low Confidence</td>\n",
       "      <td>24</td>\n",
       "      <td>Sub-Saharan Africa</td>\n",
       "      <td>148.0</td>\n",
       "    </tr>\n",
       "  </tbody>\n",
       "</table>\n",
       "</div>"
      ],
      "text/plain": [
       "          País  Desperdicio total (kg/pessoa/ano)  \\\n",
       "0  Afghanistan                                126   \n",
       "1      Albania                                127   \n",
       "2      Algeria                                135   \n",
       "3      Andorra                                123   \n",
       "4       Angola                                144   \n",
       "\n",
       "   Estimativa domiciliar (kg/pessoa/ano)  \\\n",
       "0                                     82   \n",
       "1                                     83   \n",
       "2                                     91   \n",
       "3                                     84   \n",
       "4                                    100   \n",
       "\n",
       "   Estimativa domiciliar (toneladas/ano)  \\\n",
       "0                                3109153   \n",
       "1                                 238492   \n",
       "2                                3918529   \n",
       "3                                   6497   \n",
       "4                                3169523   \n",
       "\n",
       "   Estimativa no varejo (kg/pessoa/ano)  Estimativa no varejo (toneladas/ano)  \\\n",
       "0                                    16                                594982   \n",
       "1                                    16                                 45058   \n",
       "2                                    16                                673360   \n",
       "3                                    13                                   988   \n",
       "4                                    16                                497755   \n",
       "\n",
       "   Estimativa no servico de alimentacao (kg/pessoa/ano)  \\\n",
       "0                                                 28      \n",
       "1                                                 28      \n",
       "2                                                 28      \n",
       "3                                                 26      \n",
       "4                                                 28      \n",
       "\n",
       "   Estimativa no servico de alimentacao (toneladas/ano)  \\\n",
       "0                                            1051783      \n",
       "1                                              79651      \n",
       "2                                            1190335      \n",
       "3                                               1971      \n",
       "4                                             879908      \n",
       "\n",
       "  Confianca na estimativa  Codigo M9              Regiao  IDH (2021)  \n",
       "0     Very Low Confidence          4       Southern Asia       180.0  \n",
       "1     Very Low Confidence          8     Southern Europe        67.0  \n",
       "2     Very Low Confidence         12     Northern Africa        91.0  \n",
       "3          Low Confidence         20     Southern Europe        40.0  \n",
       "4     Very Low Confidence         24  Sub-Saharan Africa       148.0  "
      ]
     },
     "execution_count": 15,
     "metadata": {},
     "output_type": "execute_result"
    }
   ],
   "source": [
    "base_final = pd.merge(df, base_idh_tratada, on='País', how='left')\n",
    "\n",
    "base_final.head()"
   ]
  },
  {
   "cell_type": "code",
   "execution_count": 16,
   "metadata": {},
   "outputs": [],
   "source": [
    "base_final.fillna(0, inplace=True)\n"
   ]
  },
  {
   "cell_type": "markdown",
   "metadata": {},
   "source": [
    "## Análises"
   ]
  },
  {
   "cell_type": "markdown",
   "metadata": {},
   "source": [
    "#### 1) Quais regiões do mundo têm os maiores índices de desperdício de alimentos?"
   ]
  },
  {
   "cell_type": "code",
   "execution_count": 17,
   "metadata": {},
   "outputs": [],
   "source": [
    "media_desperdicio_regiao = df.groupby('Regiao')['Desperdicio total (kg/pessoa/ano)'].mean().reset_index()"
   ]
  },
  {
   "cell_type": "code",
   "execution_count": 18,
   "metadata": {},
   "outputs": [
    {
     "data": {
      "image/png": "[encoded data removed]",
      "text/plain": [
       "<Figure size 1000x600 with 1 Axes>"
      ]
     },
     "metadata": {},
     "output_type": "display_data"
    }
   ],
   "source": [
    "media_desperdicio_regiao_ordenada = media_desperdicio_regiao.sort_values(by='Desperdicio total (kg/pessoa/ano)', ascending=True)\n",
    "\n",
    "plt.figure(figsize=(10, 6))\n",
    "plt.barh(media_desperdicio_regiao_ordenada['Regiao'], media_desperdicio_regiao_ordenada['Desperdicio total (kg/pessoa/ano)'], color='#3E848C')\n",
    "plt.xlabel('Média de Desperdício de Alimentos (kg/pessoa/ano)')\n",
    "plt.title('Desperdício Médio de Alimentos por Região')\n",
    "plt.tight_layout()\n",
    "plt.show()\n"
   ]
  },
  {
   "cell_type": "markdown",
   "metadata": {},
   "source": [
    "#### 2) Qual o desperdício médio pelas categorias: domicílios, varejo e serviços de alimentação?"
   ]
  },
  {
   "cell_type": "code",
   "execution_count": 19,
   "metadata": {},
   "outputs": [],
   "source": [
    "desperdicio_medio_categoria = df[['Estimativa domiciliar (kg/pessoa/ano)', \n",
    "                                      'Estimativa no varejo (kg/pessoa/ano)', \n",
    "                                      'Estimativa no servico de alimentacao (kg/pessoa/ano)']].mean()\n"
   ]
  },
  {
   "cell_type": "code",
   "execution_count": 20,
   "metadata": {},
   "outputs": [
    {
     "data": {
      "image/png": "[encoded data removed]",
      "text/plain": [
       "<Figure size 1000x600 with 1 Axes>"
      ]
     },
     "metadata": {},
     "output_type": "display_data"
    }
   ],
   "source": [
    "desperdicio_medio_categoria_ordenada = desperdicio_medio_categoria.sort_values()\n",
    "\n",
    "plt.figure(figsize=(10, 6))\n",
    "plt.bar(desperdicio_medio_categoria_ordenada.index, desperdicio_medio_categoria_ordenada.values, color=['#6c6c6c', '#7AB8BF', '#025159'])\n",
    "plt.title('Desperdício de Alimentos por Categoria (kg/pessoa/ano)')\n",
    "plt.ylabel('Média (kg/pessoa/ano)')\n",
    "plt.xlabel('Categoria')\n",
    "plt.xticks(ha='center', fontsize=9)\n",
    "plt.tight_layout()\n",
    "\n",
    "# Exibir o gráfico\n",
    "plt.show()\n"
   ]
  },
  {
   "cell_type": "markdown",
   "metadata": {},
   "source": [
    "#### 3) Quais países apresentam o menor e o maior desperdício per capita?"
   ]
  },
  {
   "cell_type": "code",
   "execution_count": 21,
   "metadata": {},
   "outputs": [],
   "source": [
    "pais_maior_desperdicio = df.loc[df['Desperdicio total (kg/pessoa/ano)'].idxmax()]\n",
    "pais_menor_desperdicio = df.loc[df['Desperdicio total (kg/pessoa/ano)'].idxmin()]"
   ]
  },
  {
   "cell_type": "code",
   "execution_count": 22,
   "metadata": {},
   "outputs": [
    {
     "name": "stdout",
     "output_type": "stream",
     "text": [
      "O país com o maior desperdício é:\n"
     ]
    },
    {
     "data": {
      "text/plain": [
       "País                                 Malaysia\n",
       "Desperdicio total (kg/pessoa/ano)         260\n",
       "Name: 116, dtype: object"
      ]
     },
     "execution_count": 22,
     "metadata": {},
     "output_type": "execute_result"
    }
   ],
   "source": [
    "print('O país com o maior desperdício é:')\n",
    "pais_maior_desperdicio[['País', 'Desperdicio total (kg/pessoa/ano)']]"
   ]
  },
  {
   "cell_type": "code",
   "execution_count": 23,
   "metadata": {},
   "outputs": [
    {
     "name": "stdout",
     "output_type": "stream",
     "text": [
      "O país com o menor desperdício é:\n"
     ]
    },
    {
     "data": {
      "text/plain": [
       "País                                 Slovenia\n",
       "Desperdicio total (kg/pessoa/ano)          61\n",
       "Name: 175, dtype: object"
      ]
     },
     "execution_count": 23,
     "metadata": {},
     "output_type": "execute_result"
    }
   ],
   "source": [
    "print('O país com o menor desperdício é:')\n",
    "pais_menor_desperdicio[['País', 'Desperdicio total (kg/pessoa/ano)']]"
   ]
  },
  {
   "cell_type": "markdown",
   "metadata": {},
   "source": [
    "#### 4) Existe uma correlação entre a confiança nas estimativas e os valores de desperdício?"
   ]
  },
  {
   "cell_type": "code",
   "execution_count": 24,
   "metadata": {},
   "outputs": [
    {
     "name": "stdout",
     "output_type": "stream",
     "text": [
      "Correlação entre Confiança e Desperdício Domiciliar: -0.25588784619954497\n",
      "Correlação entre Confiança e Desperdício no Varejo: -0.14172109604657895\n",
      "Correlação entre Confiança e Desperdício no Serviço de Alimentação: -0.05431335645729698\n"
     ]
    }
   ],
   "source": [
    "mapa_confianca = {\n",
    "    'Very Low Confidence': 1,\n",
    "    'Low Confidence': 2,\n",
    "    'Medium Confidence': 3,\n",
    "    'High Confidence': 4\n",
    "}\n",
    "\n",
    "# Criar uma nova coluna numérica para a confiança\n",
    "df['Confiança Numérica'] = df['Confianca na estimativa'].map(mapa_confianca)\n",
    "\n",
    "# Calcular a correlação entre a confiança e os valores de desperdício para cada setor\n",
    "correlation_domestic = df['Confiança Numérica'].corr(df['Estimativa domiciliar (kg/pessoa/ano)'])\n",
    "correlation_retail = df['Confiança Numérica'].corr(df['Estimativa no varejo (kg/pessoa/ano)'])\n",
    "correlation_food_service = df['Confiança Numérica'].corr(df['Estimativa no servico de alimentacao (kg/pessoa/ano)'])\n",
    "\n",
    "# Exibir os resultados das correlações\n",
    "print(\"Correlação entre Confiança e Desperdício Domiciliar:\", correlation_domestic)\n",
    "print(\"Correlação entre Confiança e Desperdício no Varejo:\", correlation_retail)\n",
    "print(\"Correlação entre Confiança e Desperdício no Serviço de Alimentação:\", correlation_food_service)\n"
   ]
  },
  {
   "cell_type": "markdown",
   "metadata": {},
   "source": [
    "#### 5) Existe uma correlação entre o IDH e o desperdício de comida?"
   ]
  },
  {
   "cell_type": "code",
   "execution_count": 25,
   "metadata": {},
   "outputs": [
    {
     "name": "stdout",
     "output_type": "stream",
     "text": [
      "Correlação entre IDH e Desperdício Domiciliar: 0.3949357029495211\n",
      "Correlação entre IDH e Desperdício no Varejo: 0.16132526699310892\n",
      "Correlação entre IDH e Desperdício no Serviço de Alimentação: 0.0801835364478134\n"
     ]
    }
   ],
   "source": [
    "correlacao_idh_domestico = base_final['IDH (2021)'].corr(base_final['Estimativa domiciliar (kg/pessoa/ano)'])\n",
    "correlacao_idh_varejo = base_final['IDH (2021)'].corr(base_final['Estimativa no varejo (kg/pessoa/ano)'])\n",
    "correlacao_idh_servico_alimentacao = base_final['IDH (2021)'].corr(base_final['Estimativa no servico de alimentacao (kg/pessoa/ano)'])\n",
    "\n",
    "# Exibir os resultados das correlações\n",
    "print(\"Correlação entre IDH e Desperdício Domiciliar:\", correlacao_idh_domestico)\n",
    "print(\"Correlação entre IDH e Desperdício no Varejo:\", correlacao_idh_varejo)\n",
    "print(\"Correlação entre IDH e Desperdício no Serviço de Alimentação:\", correlacao_idh_servico_alimentacao)"
   ]
  },
  {
   "cell_type": "markdown",
   "metadata": {},
   "source": [
    "1. Correlação entre IDH e Desperdício Domiciliar: 0.39\n",
    "Interpretação: Existe uma correlação positiva moderada entre o IDH e o desperdício domiciliar. Isso sugere que, à medida que o IDH de um país aumenta, o desperdício de alimentos em domicílios também tende a aumentar, embora a correlação não seja muito forte.\n",
    "Explicação possível: Em países com maior desenvolvimento humano, o poder aquisitivo pode ser maior, levando a maior consumo e, potencialmente, maior desperdício de alimentos em domicílios.\n",
    "2. Correlação entre IDH e Desperdício no Varejo: 0.16\n",
    "Interpretação: Existe uma correlação positiva fraca entre o IDH e o desperdício no varejo. Isso sugere que o nível de desenvolvimento humano tem pouca relação com o desperdício de alimentos no setor varejista.\n",
    "Explicação possível: O setor de varejo pode ser influenciado por fatores como políticas governamentais, infraestrutura e práticas comerciais, que não são diretamente relacionados ao desenvolvimento humano medido pelo IDH.\n",
    "3. Correlação entre IDH e Desperdício no Serviço de Alimentação: 0.08\n",
    "Interpretação: Existe uma correlação muito fraca entre o IDH e o desperdício no setor de serviços de alimentação. A correlação próxima de zero sugere que não há uma relação clara entre o desenvolvimento humano e o desperdício de alimentos em restaurantes e serviços de alimentação.\n",
    "Explicação possível: O desperdício no setor de serviços de alimentação pode ser mais influenciado por práticas locais, regulamentações e o comportamento dos consumidores, e não diretamente pelo nível de desenvolvimento humano.\n",
    "Conclusão:\n",
    "A correlação mais forte é entre IDH e desperdício domiciliar (0.39), sugerindo que países com maior desenvolvimento humano tendem a ter mais desperdício de alimentos em domicílios.\n",
    "As correlações entre IDH e desperdício no varejo (0.16) e IDH e desperdício no serviço de alimentação (0.08) são muito fracas, indicando que o desenvolvimento humano não tem uma relação forte com o desperdício nesses setores.\n",
    "Esses resultados sugerem que, enquanto o IDH pode influenciar o desperdício de alimentos em domicílios, ele não é um fator determinante no desperdício no varejo e serviços de alimentação."
   ]
  }
 ],
 "metadata": {
  "kernelspec": {
   "display_name": "Python 3",
   "language": "python",
   "name": "python3"
  },
  "language_info": {
   "codemirror_mode": {
    "name": "ipython",
    "version": 3
   },
   "file_extension": ".py",
   "mimetype": "text/x-python",
   "name": "python",
   "nbconvert_exporter": "python",
   "pygments_lexer": "ipython3",
   "version": "3.12.4"
  }
 },
 "nbformat": 4,
 "nbformat_minor": 2
}
